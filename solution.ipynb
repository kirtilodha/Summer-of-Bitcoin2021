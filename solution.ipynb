{
  "nbformat": 4,
  "nbformat_minor": 0,
  "metadata": {
    "colab": {
      "name": "Bitcoin Summer Of Code.ipynb",
      "provenance": [],
      "authorship_tag": "ABX9TyPpsbj7LK/0WVgPq8D+olS1",
      "include_colab_link": true
    },
    "kernelspec": {
      "name": "python3",
      "display_name": "Python 3"
    },
    "language_info": {
      "name": "python"
    }
  },
  "cells": [
    {
      "cell_type": "markdown",
      "metadata": {
        "id": "view-in-github",
        "colab_type": "text"
      },
      "source": [
        "<a href=\"https://colab.research.google.com/github/kirtilodha/Summer-of-Bitcoin2021/blob/main/solution.ipynb\" target=\"_parent\"><img src=\"https://colab.research.google.com/assets/colab-badge.svg\" alt=\"Open In Colab\"/></a>"
      ]
    },
    {
      "cell_type": "markdown",
      "metadata": {
        "id": "y5AsNDKXencx"
      },
      "source": [
        "importing pandas library and making an alias pd"
      ]
    },
    {
      "cell_type": "code",
      "metadata": {
        "id": "aiFr10GJVikI"
      },
      "source": [
        "import pandas as pd\n"
      ],
      "execution_count": null,
      "outputs": []
    },
    {
      "cell_type": "markdown",
      "metadata": {
        "id": "4K7X81lQe5GG"
      },
      "source": [
        "reading csv file"
      ]
    },
    {
      "cell_type": "code",
      "metadata": {
        "id": "duAvPqHYWPW-",
        "colab": {
          "base_uri": "https://localhost:8080/",
          "height": 206
        },
        "outputId": "3f21ae83-785c-4f54-c8c3-cfccb96efd14"
      },
      "source": [
        "df  = pd.read_csv(\"mempool.csv\")\n",
        "df.head()"
      ],
      "execution_count": null,
      "outputs": [
        {
          "output_type": "execute_result",
          "data": {
            "text/html": [
              "<div>\n",
              "<style scoped>\n",
              "    .dataframe tbody tr th:only-of-type {\n",
              "        vertical-align: middle;\n",
              "    }\n",
              "\n",
              "    .dataframe tbody tr th {\n",
              "        vertical-align: top;\n",
              "    }\n",
              "\n",
              "    .dataframe thead th {\n",
              "        text-align: right;\n",
              "    }\n",
              "</style>\n",
              "<table border=\"1\" class=\"dataframe\">\n",
              "  <thead>\n",
              "    <tr style=\"text-align: right;\">\n",
              "      <th></th>\n",
              "      <th>tx_id</th>\n",
              "      <th>fee</th>\n",
              "      <th>weight</th>\n",
              "      <th>parents</th>\n",
              "    </tr>\n",
              "  </thead>\n",
              "  <tbody>\n",
              "    <tr>\n",
              "      <th>0</th>\n",
              "      <td>2e3da8fbc1eaca8ed9b7c2db9e6545d8ccac3c67deadee...</td>\n",
              "      <td>452</td>\n",
              "      <td>1620</td>\n",
              "      <td>NaN</td>\n",
              "    </tr>\n",
              "    <tr>\n",
              "      <th>1</th>\n",
              "      <td>79c51c9d4124c5cbb37a85263748dcf44e182dff83561f...</td>\n",
              "      <td>682</td>\n",
              "      <td>1136</td>\n",
              "      <td>6eb38fad135e38a93cb47a15a5f953cbc0563fd84bf1ab...</td>\n",
              "    </tr>\n",
              "    <tr>\n",
              "      <th>2</th>\n",
              "      <td>b0ef627c8dc2a706475d33d7712209ec779f7a8302aaea...</td>\n",
              "      <td>226</td>\n",
              "      <td>900</td>\n",
              "      <td>NaN</td>\n",
              "    </tr>\n",
              "    <tr>\n",
              "      <th>3</th>\n",
              "      <td>8c25f9be93990b96e8bc363778d6debee6867c7d73cefa...</td>\n",
              "      <td>258</td>\n",
              "      <td>1032</td>\n",
              "      <td>NaN</td>\n",
              "    </tr>\n",
              "    <tr>\n",
              "      <th>4</th>\n",
              "      <td>edc82751537be6afcb21c0229d8d20916d8e742a363ab2...</td>\n",
              "      <td>452</td>\n",
              "      <td>1616</td>\n",
              "      <td>NaN</td>\n",
              "    </tr>\n",
              "  </tbody>\n",
              "</table>\n",
              "</div>"
            ],
            "text/plain": [
              "                                               tx_id  ...                                           parents \n",
              "0  2e3da8fbc1eaca8ed9b7c2db9e6545d8ccac3c67deadee...  ...                                                NaN\n",
              "1  79c51c9d4124c5cbb37a85263748dcf44e182dff83561f...  ...  6eb38fad135e38a93cb47a15a5f953cbc0563fd84bf1ab...\n",
              "2  b0ef627c8dc2a706475d33d7712209ec779f7a8302aaea...  ...                                                NaN\n",
              "3  8c25f9be93990b96e8bc363778d6debee6867c7d73cefa...  ...                                                NaN\n",
              "4  edc82751537be6afcb21c0229d8d20916d8e742a363ab2...  ...                                                NaN\n",
              "\n",
              "[5 rows x 4 columns]"
            ]
          },
          "metadata": {
            "tags": []
          },
          "execution_count": 31
        }
      ]
    },
    {
      "cell_type": "markdown",
      "metadata": {
        "id": "wjhpr91He80n"
      },
      "source": [
        "sorting the dataframe"
      ]
    },
    {
      "cell_type": "code",
      "metadata": {
        "id": "0uMalvJsWQV7"
      },
      "source": [
        "def sort_trans(df, maxfee, minwght):\n",
        "    df = df.sort_values([maxfee, minwght], ascending=[False, True]).reset_index(drop=True)\n",
        "    return df"
      ],
      "execution_count": null,
      "outputs": []
    },
    {
      "cell_type": "markdown",
      "metadata": {
        "id": "WD71uGJZfEF0"
      },
      "source": [
        "checks if the current weight and adding of more weight exceeds the max weight"
      ]
    },
    {
      "cell_type": "code",
      "metadata": {
        "id": "syQXQAVNX2AT"
      },
      "source": [
        "def check_weight(x):\n",
        "    if min_weight + x['weight'] <= max_weight:\n",
        "        return True\n",
        "    else:\n",
        "        return False"
      ],
      "execution_count": null,
      "outputs": []
    },
    {
      "cell_type": "markdown",
      "metadata": {
        "id": "CLBbW9g0fRGc"
      },
      "source": [
        "checking if the transaction id is present in final list"
      ]
    },
    {
      "cell_type": "code",
      "metadata": {
        "id": "C_vJcuUnZnld"
      },
      "source": [
        "def check_list(x):\n",
        "    if str(x) in final_set_of_txids:\n",
        "        return True\n",
        "    else:\n",
        "        return False"
      ],
      "execution_count": null,
      "outputs": []
    },
    {
      "cell_type": "markdown",
      "metadata": {
        "id": "32DaqDG2fYw6"
      },
      "source": [
        "check if the parent id is in final list and if not then check if its possible to add"
      ]
    },
    {
      "cell_type": "code",
      "metadata": {
        "id": "cxd9B8p4ZtXl"
      },
      "source": [
        "def check_parent(x):\n",
        "    if str(x[3]) != \"nan\":\n",
        "        parent_list = str(x[3]).split(\";\")\n",
        "        for i in parent_list:\n",
        "            if(check_list(i)):\n",
        "                continue\n",
        "            else:\n",
        "                txnindex = df[df['tx_id'] == i].index.item()\n",
        "                k = df.loc[txnindex]\n",
        "                check_add_txn(k)"
      ],
      "execution_count": null,
      "outputs": []
    },
    {
      "cell_type": "markdown",
      "metadata": {
        "id": "TLqXwshZfuWa"
      },
      "source": [
        "adding the transaction id to the final list and adding the weight"
      ]
    },
    {
      "cell_type": "code",
      "metadata": {
        "id": "5btGokv6ZvzH"
      },
      "source": [
        "def add_to_block(x):\n",
        "    global min_weight\n",
        "    txnID = x[0]\n",
        "    weight = x[2]\n",
        "    min_weight += weight\n",
        "    final_set_of_txids.append(txnID)"
      ],
      "execution_count": null,
      "outputs": []
    },
    {
      "cell_type": "markdown",
      "metadata": {
        "id": "2i1NIRmkf8Kk"
      },
      "source": [
        "to check if a transaction id can be added or not"
      ]
    },
    {
      "cell_type": "code",
      "metadata": {
        "id": "78lpdSuYZykS"
      },
      "source": [
        "def check_add_txn(x):\n",
        "    if(check_weight(x)):\n",
        "        if(not check_list(x)):\n",
        "            check_parent(x)\n",
        "            if(check_weight(x)):\n",
        "                add_to_block(x)"
      ],
      "execution_count": null,
      "outputs": []
    },
    {
      "cell_type": "markdown",
      "metadata": {
        "id": "i6yJTkzjgAS9"
      },
      "source": [
        "main code"
      ]
    },
    {
      "cell_type": "code",
      "metadata": {
        "id": "pC_N0a9CZ04T"
      },
      "source": [
        "def Main(df):\n",
        "    sorted_transactions = sort_trans(df, \"fee\", \"weight\")\n",
        "    for i in range(len(sorted_transactions)):\n",
        "        txnVar =  sorted_transactions.loc[i]\n",
        "        check_add_txn(txnVar)"
      ],
      "execution_count": null,
      "outputs": []
    },
    {
      "cell_type": "markdown",
      "metadata": {
        "id": "PNsnAoKXf2DN"
      },
      "source": [
        "for output:"
      ]
    },
    {
      "cell_type": "code",
      "metadata": {
        "id": "_LQkd5XHZ3iy"
      },
      "source": [
        "def output(fin_list):\n",
        "    file = open(\"block.txt\",\"a\")\n",
        "    for i in fin_list:\n",
        "        file.write(str(i) + '\\n')\n",
        "    file.close()"
      ],
      "execution_count": null,
      "outputs": []
    },
    {
      "cell_type": "code",
      "metadata": {
        "id": "ha2hKFE6Z6FT"
      },
      "source": [
        "max_weight = 4000000\n",
        "min_weight = 0\n",
        "final_set_of_txids = []\n",
        "\n",
        "data = df\n",
        "Main(data)\n",
        "\n",
        "output(final_set_of_txids)"
      ],
      "execution_count": null,
      "outputs": []
    },
    {
      "cell_type": "code",
      "metadata": {
        "id": "LhzKXcyhZ8cJ"
      },
      "source": [
        ""
      ],
      "execution_count": null,
      "outputs": []
    }
  ]
}